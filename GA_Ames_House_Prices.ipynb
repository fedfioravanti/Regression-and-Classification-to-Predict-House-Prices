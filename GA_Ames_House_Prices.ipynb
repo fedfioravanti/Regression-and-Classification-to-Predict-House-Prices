{
 "cells": [
  {
   "cell_type": "markdown",
   "metadata": {},
   "source": [
    "<img src=\"http://imgur.com/1ZcRyrc.png\" style=\"float: left; margin: 15px; height: 80px\">\n",
    "\n",
    "# Project 3\n",
    "\n",
    "### Regression and Classification with the Ames Housing Data\n",
    "\n",
    "---\n",
    "\n",
    "You have just joined a new \"full stack\" real estate company in Ames, Iowa. The strategy of the firm is two-fold:\n",
    "- Own the entire process from the purchase of the land all the way to sale of the house, and anything in between.\n",
    "- Use statistical analysis to optimize investment and maximize return.\n",
    "\n",
    "The company is still small, and though investment is substantial the short-term goals of the company are more oriented towards purchasing existing houses and flipping them as opposed to constructing entirely new houses. That being said, the company has access to a large construction workforce operating at rock-bottom prices.\n",
    "\n",
    "This project uses the [Ames housing data recently made available on kaggle](https://www.kaggle.com/c/house-prices-advanced-regression-techniques)."
   ]
  },
  {
   "cell_type": "markdown",
   "metadata": {},
   "source": [
    "## Libraries Import  \n",
    "\n",
    "<br/><br/>"
   ]
  },
  {
   "cell_type": "code",
   "execution_count": 1,
   "metadata": {},
   "outputs": [],
   "source": [
    "import numpy as np\n",
    "import pandas as pd\n",
    "import scipy.stats as stats"
   ]
  },
  {
   "cell_type": "code",
   "execution_count": null,
   "metadata": {},
   "outputs": [],
   "source": [
    "import matplotlib.pyplot as plt\n",
    "import seaborn as sns\n",
    "\n",
    "plt.style.use('ggplot')\n",
    "\n",
    "%config InlineBackend.figure_format = 'retina'\n",
    "%matplotlib inline"
   ]
  },
  {
   "cell_type": "code",
   "execution_count": null,
   "metadata": {},
   "outputs": [],
   "source": [
    "pd.set_option('display.max_rows',None)\n",
    "pd.set_option('display.max_columns', None)"
   ]
  },
  {
   "cell_type": "code",
   "execution_count": null,
   "metadata": {},
   "outputs": [],
   "source": [
    "from sklearn import metrics\n",
    "from sklearn.preprocessing import StandardScaler\n",
    "from sklearn.metrics import r2_score, mean_squared_error\n",
    "from sklearn.model_selection import train_test_split, StratifiedKFold, cross_val_score, cross_val_predict, GridSearchCV\n",
    "from sklearn.impute import KNNImputer\n",
    "from sklearn.linear_model import LinearRegression, Ridge, Lasso, ElasticNet, RidgeCV, LassoCV, ElasticNetCV\n",
    "from sklearn.metrics import confusion_matrix, accuracy_score, precision_score, recall_score, f1_score\n",
    "from sklearn.metrics import plot_confusion_matrix, classification_report, ConfusionMatrixDisplay\n",
    "from sklearn.metrics import plot_roc_curve, RocCurveDisplay, roc_auc_score\n",
    "from sklearn.metrics import plot_precision_recall_curve, PrecisionRecallDisplay, average_precision_score\n",
    "from sklearn.linear_model import LogisticRegressionCV, LogisticRegression\n",
    "from sklearn.neighbors import KNeighborsClassifier\n",
    "from sklearn.ensemble import RandomForestClassifier, AdaBoostClassifier, GradientBoostingClassifier, BaggingClassifier\n",
    "from sklearn.tree import DecisionTreeClassifier"
   ]
  },
  {
   "cell_type": "code",
   "execution_count": null,
   "metadata": {},
   "outputs": [],
   "source": [
    "# run to avoid warnings\n",
    "import warnings\n",
    "warnings.filterwarnings('ignore')"
   ]
  },
  {
   "cell_type": "markdown",
   "metadata": {},
   "source": [
    "<img src=\"http://imgur.com/l5NasQj.png\" style=\"float: left; margin: 25px 15px 0px 0px; height: 25px\">\n",
    "\n",
    "## 1. Estimating the value of homes from fixed characteristics.\n",
    "\n",
    "---\n",
    "\n",
    "Your superiors have outlined this year's strategy for the company:\n",
    "1. Develop an algorithm to reliably estimate the value of residential houses based on *fixed* characteristics.\n",
    "2. Identify characteristics of houses that the company can cost-effectively change/renovate with their construction team.\n",
    "3. Evaluate the mean dollar value of different renovations.\n",
    "\n",
    "Then we can use that to buy houses that are likely to sell for more than the cost of the purchase plus renovations.\n",
    "\n",
    "Your first job is to tackle #1. You have a dataset of housing sale data with a huge amount of features identifying different aspects of the house. The full description of the data features can be found in a separate file:\n",
    "\n",
    "    housing.csv\n",
    "    data_description.txt\n",
    "    \n",
    "You need to build a reliable estimator for the price of the house given characteristics of the house that cannot be renovated. Some examples include:\n",
    "- The neighborhood\n",
    "- Square feet\n",
    "- Bedrooms, bathrooms\n",
    "- Basement and garage space\n",
    "\n",
    "and many more. \n",
    "\n",
    "Some examples of things that **ARE renovateable:**\n",
    "- Roof and exterior features\n",
    "- \"Quality\" metrics, such as kitchen quality\n",
    "- \"Condition\" metrics, such as condition of garage\n",
    "- Heating and electrical components\n",
    "\n",
    "and generally anything you deem can be modified without having to undergo major construction on the house.\n",
    "\n",
    "---\n",
    "\n",
    "**Your goals:**\n",
    "1. Perform any cleaning, feature engineering, and EDA you deem necessary.\n",
    "- Be sure to remove any houses that are not residential from the dataset.\n",
    "- Identify **fixed** features that can predict price.\n",
    "- Train a model on pre-2010 data and evaluate its performance on the 2010 houses.\n",
    "- Characterize your model. How well does it perform? What are the best estimates of price?\n",
    "\n",
    "> **Note:** The EDA and feature engineering component to this project is not trivial! Be sure to always think critically and creatively. Justify your actions! Use the data description file!"
   ]
  },
  {
   "cell_type": "code",
   "execution_count": null,
   "metadata": {},
   "outputs": [],
   "source": [
    "# load the data\n",
    "house = pd.read_csv('datasets/housing.csv')"
   ]
  },
  {
   "cell_type": "code",
   "execution_count": null,
   "metadata": {},
   "outputs": [],
   "source": [
    "# look at the dataset\n",
    "house.head()"
   ]
  },
  {
   "cell_type": "code",
   "execution_count": null,
   "metadata": {},
   "outputs": [],
   "source": [
    "house.tail()"
   ]
  },
  {
   "cell_type": "code",
   "execution_count": null,
   "metadata": {},
   "outputs": [],
   "source": [
    "# check the shape\n",
    "house.shape"
   ]
  },
  {
   "cell_type": "code",
   "execution_count": null,
   "metadata": {},
   "outputs": [],
   "source": [
    "# check the dataset info\n",
    "house.info()"
   ]
  },
  {
   "cell_type": "code",
   "execution_count": null,
   "metadata": {},
   "outputs": [],
   "source": [
    "# check for duplicate rows\n",
    "house.duplicated().sum()"
   ]
  },
  {
   "cell_type": "code",
   "execution_count": null,
   "metadata": {},
   "outputs": [],
   "source": [
    "# drop Id column\n",
    "house.drop(columns='Id', inplace=True)"
   ]
  },
  {
   "cell_type": "code",
   "execution_count": null,
   "metadata": {},
   "outputs": [],
   "source": [
    "# build a data dictionary which includes description, mutability and variable type for all features\n",
    "data_dict = {'MSSubClass':['Identifies the type of dwelling involved in the sale', 'fixed', 'nominal'],\n",
    "             'MSZoning':['Identifies the general zoning classification of the sale', 'fixed', 'nominal'],\n",
    "             'LotFrontage':['Linear feet of street connected to property', 'fixed', 'continuous'],\n",
    "             'LotArea':['Lot size in square feet', 'fixed', 'continuous'],\n",
    "             'Street':['Type of road access to property', 'mutable', 'nominal'],\n",
    "             'Alley':['Type of alley access to property', 'mutable', 'nominal'], \n",
    "             'LotShape':['General shape of property', 'fixed', 'nominal'], \n",
    "             'LandContour':['Flatness of the property', 'fixed', 'nominal'], \n",
    "             'Utilities':['Type of utilities available', 'mutable', 'nominal'], \n",
    "             'LotConfig':['Lot configuration', 'fixed', 'nominal'],\n",
    "             'LandSlope':['Slope of property', 'fixed', 'nominal'], \n",
    "             'Neighborhood':['Physical locations within Ames city limits', 'fixed', 'nominal'], \n",
    "             'Condition1':['Proximity to various conditions', 'fixed', 'nominal'], \n",
    "             'Condition2':['Proximity to various conditions (if more than one is present)', 'fixed', 'nominal'], \n",
    "             'BldgType':['Type of dwelling', 'fixed', 'nominal'],\n",
    "             'HouseStyle':['Style of dwelling', 'fixed', 'nominal'], \n",
    "             'OverallQual':['Rates the overall material and finish of the house', 'mutable', 'ordinal'], \n",
    "             'OverallCond':['Rates the overall condition of the house','mutable', 'ordinal'], \n",
    "             'YearBuilt':['Original construction date', 'fixed', 'discrete'], \n",
    "             'YearRemodAdd':['Remodel date (same as construction date if no remodeling or additions)', 'fixed', 'discrete'],\n",
    "             'RoofStyle':['Type of roof', 'fixed', 'nominal'], \n",
    "             'RoofMatl':['Roof material', 'mutable', 'nominal'], \n",
    "             'Exterior1st':['Exterior covering on house', 'mutable', 'nominal'], \n",
    "             'Exterior2nd':['Exterior covering on house (if more than one material)', 'mutable', 'nominal'], \n",
    "             'MasVnrType':['Masonry veneer type', 'mutable', 'nominal'],\n",
    "             'MasVnrArea':['Masonry veneer area in square feet', 'mutable', 'continuous'], \n",
    "             'ExterQual':['Evaluates the quality of the material on the exterior', 'mutable', 'nominal'], \n",
    "             'ExterCond':['Evaluates the present condition of the material on the exterior', 'mutable', 'nominal'], \n",
    "             'Foundation':['Type of foundation', 'fixed', 'nominal'], \n",
    "             'BsmtQual':['Evaluates the height of the basement', 'mutable', 'nominal'],\n",
    "             'BsmtCond':['Evaluates the general condition of the basement', 'mutable', 'nominal'], \n",
    "             'BsmtExposure':['Refers to walkout or garden level walls', 'fixed', 'nominal'], \n",
    "             'BsmtFinType1':['Rating of basement finished area', 'mutable', 'nominal'], \n",
    "             'BsmtFinSF1':['Type 1 finished square feet', 'fixed', 'continuous'],\n",
    "             'BsmtFinType2':['Rating of basement finished area (if multiple types)', 'mutable', 'nominal'], \n",
    "             'BsmtFinSF2':['Type 2 finished square feet', 'fixed', 'continuous'], \n",
    "             'BsmtUnfSF':['Unfinished square feet of basement area', 'fixed', 'continuous'], \n",
    "             'TotalBsmtSF':['Total square feet of basement area', 'fixed', 'continuous'], \n",
    "             'Heating':['Type of heating', 'mutable', 'nominal'],\n",
    "             'HeatingQC':['Heating quality and condition', 'mutable', 'nominal'], \n",
    "             'CentralAir':['Central air conditioning', 'mutable', 'ordinal'], \n",
    "             'Electrical':['Electrical system', 'mutable', 'nominal'], \n",
    "             '1stFlrSF':['First Floor square feet','fixed', 'continuous'], \n",
    "             '2ndFlrSF':['Second floor square feet','fixed', 'continuous'],\n",
    "             'LowQualFinSF':['Low quality finished square feet (all floors)', 'mutable', 'continuous'], \n",
    "             'GrLivArea':['Above grade (ground) living area square feet', 'fixed', 'continuous'], \n",
    "             'BsmtFullBath':['Basement full bathrooms', 'fixed', 'discrete'], \n",
    "             'BsmtHalfBath':['Basement half bathrooms', 'fixed', 'discrete'], \n",
    "             'FullBath':['Full bathrooms above grade', 'fixed', 'discrete'],\n",
    "             'HalfBath':['Half baths above grade', 'fixed', 'discrete'], \n",
    "             'BedroomAbvGr':['Bedrooms above grade (does NOT include basement bedrooms)', 'fixed', 'discrete'], \n",
    "             'KitchenAbvGr':['Kitchens above grade', 'fixed', 'discrete'], \n",
    "             'KitchenQual':['Kitchen quality', 'mutable', 'nominal'],\n",
    "             'TotRmsAbvGrd':['Total rooms above grade (does not include bathrooms)', 'fixed', 'discrete'], \n",
    "             'Functional':['Home functionality (Assume typical unless deductions are warranted)', 'mutable', 'nominal'], \n",
    "             'Fireplaces':['Number of fireplaces', 'fixed', 'discrete'], \n",
    "             'FireplaceQu':['Fireplace quality', 'mutable', 'nominal'], \n",
    "             'GarageType':['Garage location','fixed','nominal'],\n",
    "             'GarageYrBlt':['Year garage was built','fixed','discrete'], \n",
    "             'GarageFinish':['Interior finish of the garage','mutable','nominal'], \n",
    "             'GarageCars':['Size of garage in car capacity','fixed','discrete'], \n",
    "             'GarageArea':['Size of garage in square feet','fixed','continuous'], \n",
    "             'GarageQual':['Garage quality','mutable','nominal'],\n",
    "             'GarageCond':['Garage condition','mutable','nominal'], \n",
    "             'PavedDrive':['Paved driveway','mutable','nominal'], \n",
    "             'WoodDeckSF':['Wood deck area in square feet','fixed','continuous'], \n",
    "             'OpenPorchSF':['Open porch area in square feet','fixed','continuous'],\n",
    "             'EnclosedPorch':['Enclosed porch area in square feet','fixed','continuous'], \n",
    "             '3SsnPorch':['Three season porch area in square feet','fixed','continuous'], \n",
    "             'ScreenPorch':['Screen porch area in square feet','fixed','continuous'], \n",
    "             'PoolArea':['Pool area in square feet','fixed','continuous'], \n",
    "             'PoolQC':['Pool quality','mutable','nominal'],\n",
    "             'Fence':['Fence quality','mutable','nominal'], \n",
    "             'MiscFeature':['Miscellaneous feature not covered in other categories','fixed','nominal'], \n",
    "             'MiscVal':['$Value of miscellaneous feature','fixed','continuous'], \n",
    "             'MoSold':['Month Sold (MM)','fixed','discrete'], \n",
    "             'YrSold':['Year Sold (YYYY)','fixed','discrete'], \n",
    "             'SaleType':['Type of sale','fixed','nominal'],\n",
    "             'SaleCondition':['Condition of sale','fixed','nominal'], \n",
    "             'SalePrice':['Value of property at sale','fixed','continuous-price']}"
   ]
  },
  {
   "cell_type": "markdown",
   "metadata": {},
   "source": [
    "## Data Cleaning and Processing"
   ]
  },
  {
   "cell_type": "code",
   "execution_count": null,
   "metadata": {},
   "outputs": [],
   "source": [
    "# display a summary for quantitative variables\n",
    "house.describe()"
   ]
  },
  {
   "cell_type": "code",
   "execution_count": null,
   "metadata": {},
   "outputs": [],
   "source": [
    "# display a summary for categorical variables\n",
    "house.describe(include = 'object').sort_values(by = 'freq', ascending = False, axis = 1)"
   ]
  },
  {
   "cell_type": "markdown",
   "metadata": {},
   "source": [
    "**Utilities** and **Street** only have 1 and 6 entries that have different values from the rest.\n",
    "Their very low variability means they will not be good predictors, so these columns will be dropped.  "
   ]
  },
  {
   "cell_type": "code",
   "execution_count": null,
   "metadata": {},
   "outputs": [],
   "source": [
    "house.drop(columns = ['Utilities','Street'], inplace = True)\n",
    "del data_dict['Utilities']\n",
    "del data_dict['Street']"
   ]
  },
  {
   "cell_type": "markdown",
   "metadata": {},
   "source": [
    "**Condition1** and **Condition2** describe proximity to main roads, avenues, railways, parks, etc... using the same variables.  \n",
    "Although some of them are clearly positive or negative, it is not possible to rank them given the available information. Since Condition2 shows a second condition only when present, there is very little variation between the two columns and they will be checked for repetition.  "
   ]
  },
  {
   "cell_type": "code",
   "execution_count": null,
   "metadata": {},
   "outputs": [],
   "source": [
    "# display Condition1 values\n",
    "house['Condition1'].value_counts()"
   ]
  },
  {
   "cell_type": "code",
   "execution_count": null,
   "metadata": {},
   "outputs": [],
   "source": [
    "# display Condition2 values\n",
    "house['Condition2'].value_counts()"
   ]
  },
  {
   "cell_type": "code",
   "execution_count": null,
   "metadata": {},
   "outputs": [],
   "source": [
    "# check repetitions in the two columns\n",
    "pd.set_option('display.max_rows', 50)\n",
    "house[['Condition1', 'Condition2']][house['Condition1'] == house['Condition2']]"
   ]
  },
  {
   "cell_type": "markdown",
   "metadata": {},
   "source": [
    "As expected, repetitions between the two columns occur when no particular conditions exist.  \n",
    "Condition2 will be mapped to **None** when its value is equal to Condition1 and will be maintained.  \n"
   ]
  },
  {
   "cell_type": "code",
   "execution_count": null,
   "metadata": {},
   "outputs": [],
   "source": [
    "# map Condition2 to None when is equal to Condition1\n",
    "house.loc[house['Condition1'] == house['Condition2'], 'Condition2'] = 'None'\n",
    "\n",
    "# display Condition2 updated values\n",
    "house['Condition2'].value_counts()"
   ]
  },
  {
   "cell_type": "markdown",
   "metadata": {},
   "source": [
    "**Exterior1st** and **Exterior2nd** describe the external finishes using the same variables.  \n",
    "Since Exterior2nd shows a second material only when present, there is very little variation between the two columns and they will be checked for repetition."
   ]
  },
  {
   "cell_type": "code",
   "execution_count": null,
   "metadata": {},
   "outputs": [],
   "source": [
    "# display Exterior1st values\n",
    "house['Exterior1st'].value_counts()"
   ]
  },
  {
   "cell_type": "code",
   "execution_count": null,
   "metadata": {},
   "outputs": [],
   "source": [
    "# display Exterior2nd values\n",
    "house['Exterior2nd'].value_counts()"
   ]
  },
  {
   "cell_type": "code",
   "execution_count": null,
   "metadata": {},
   "outputs": [],
   "source": [
    "# create corrected spellings for the materials from comparing to data description\n",
    "incorrect_sp = ['CmentBd', 'Wd Shng', 'Brk Cmn']\n",
    "correct_sp = ['CemntBd', 'WdShing', 'BrkComm']\n",
    "\n",
    "# replace spelling mistakes in Exterior2nd\n",
    "house['Exterior2nd'] = house['Exterior2nd'].replace(incorrect_sp, correct_sp)"
   ]
  },
  {
   "cell_type": "code",
   "execution_count": null,
   "metadata": {},
   "outputs": [],
   "source": [
    "# check repetitions in the two columns\n",
    "house[['Exterior1st', 'Exterior2nd']][house['Exterior1st'] == house['Exterior2nd']]"
   ]
  },
  {
   "cell_type": "code",
   "execution_count": null,
   "metadata": {},
   "outputs": [],
   "source": [
    "# map Exterior2nd to None when is equal to Exterior1st\n",
    "house.loc[house['Exterior1st'] == house['Exterior2nd'], 'Exterior2nd'] = 'None' \n",
    "\n",
    "# display Exterior2nd updated values\n",
    "house['Exterior2nd'].value_counts()"
   ]
  },
  {
   "cell_type": "markdown",
   "metadata": {},
   "source": [
    "**MSZoning** describes the general zoning classification of the property.  \n",
    "**RL**, **RM**, **FV** and **RH** indicate residential properties. Non-residential properties will be removed.  "
   ]
  },
  {
   "cell_type": "code",
   "execution_count": null,
   "metadata": {},
   "outputs": [],
   "source": [
    "# check MSZoning column\n",
    "house['MSZoning'].value_counts()"
   ]
  },
  {
   "cell_type": "code",
   "execution_count": null,
   "metadata": {},
   "outputs": [],
   "source": [
    "# remove non-residential properties from the dataset\n",
    "house = house[house['MSZoning'] != 'C (all)']"
   ]
  },
  {
   "cell_type": "code",
   "execution_count": null,
   "metadata": {},
   "outputs": [],
   "source": [
    "house['MSZoning'].value_counts()"
   ]
  },
  {
   "cell_type": "code",
   "execution_count": null,
   "metadata": {},
   "outputs": [],
   "source": [
    "house.shape"
   ]
  },
  {
   "cell_type": "code",
   "execution_count": null,
   "metadata": {},
   "outputs": [],
   "source": [
    "# count the missing values for each column, display only the ones with missing values\n",
    "na_count = house.isna().sum()\n",
    "na_count[na_count != 0]"
   ]
  },
  {
   "cell_type": "markdown",
   "metadata": {},
   "source": [
    "Several features have a lot of missing values (NaN).  \n",
    "Their variable types will be checked first in order to decide how to process them.  \n",
    "\n",
    "<br/><br/>"
   ]
  },
  {
   "cell_type": "code",
   "execution_count": null,
   "metadata": {},
   "outputs": [],
   "source": [
    "# split variables into continuous, discrete, ordinal and nominal\n",
    "continuous_vars = []\n",
    "discrete_vars = []\n",
    "ordinal_vars = []\n",
    "nominal_vars = []\n",
    "\n",
    "for k,v in data_dict.items():\n",
    "    if v[2] == 'continuous':\n",
    "        continuous_vars.append(k)\n",
    "    elif v[2] == 'discrete':\n",
    "        discrete_vars.append(k)\n",
    "    elif v[2] == 'ordinal':\n",
    "        ordinal_vars.append(k)\n",
    "    elif v[2] == 'nominal':\n",
    "        nominal_vars.append(k)"
   ]
  },
  {
   "cell_type": "code",
   "execution_count": null,
   "metadata": {},
   "outputs": [],
   "source": [
    "# define quantitative and categorical variables\n",
    "quant_vars = continuous_vars + discrete_vars\n",
    "categ_vars = ordinal_vars + nominal_vars\n",
    "price = ['SalePrice']"
   ]
  },
  {
   "cell_type": "code",
   "execution_count": null,
   "metadata": {},
   "outputs": [],
   "source": [
    "# display variable types\n",
    "print('CONTINUOUS VARIABLES \\n', continuous_vars+price)\n",
    "print()\n",
    "print('DISCRETE VARIABLES \\n', discrete_vars)\n",
    "print()\n",
    "print('ORDINAL VARIABLES \\n', ordinal_vars)\n",
    "print()\n",
    "print('NOMINAL VARIABLES \\n', nominal_vars)\n",
    "print()"
   ]
  },
  {
   "cell_type": "markdown",
   "metadata": {},
   "source": [
    "In general, rows can dropped for cases where data appears to be genuinely missing and rows account for less than 5% of data.  \n",
    "The data description indicates that 'NA' means the property does not have a particular feature, rather than being a missing value.  \n",
    "Categorical variables should have 'NA' values replaced with 'None' to avoid missing values, and all quantitative variables should be encoded as integers or floats.  \n",
    "For **quantitative** variables missing values will be imputed using the most correlated features, while for **categorical** variables ordinal encoding (higher quality = higher value) will be performed where values are not correctly designated.  \n",
    "\n",
    "<br/><br/>"
   ]
  },
  {
   "cell_type": "code",
   "execution_count": null,
   "metadata": {},
   "outputs": [],
   "source": [
    "# drop rows with missing data\n",
    "house.dropna(subset = ['MasVnrType', 'MasVnrArea','Electrical'], inplace = True)"
   ]
  },
  {
   "cell_type": "code",
   "execution_count": null,
   "metadata": {},
   "outputs": [],
   "source": [
    "# convert NA to None - categorical variables where NA means none (e.g. alley = no alley)\n",
    "house[['Alley','GarageType','MiscFeature']] = house[['Alley','GarageType','MiscFeature']].fillna('None')"
   ]
  },
  {
   "cell_type": "code",
   "execution_count": null,
   "metadata": {},
   "outputs": [],
   "source": [
    "# check data types for quantitative variables\n",
    "house[quant_vars].dtypes"
   ]
  },
  {
   "cell_type": "code",
   "execution_count": null,
   "metadata": {},
   "outputs": [],
   "source": [
    "# find the most correlated variables with LotFrontage\n",
    "for x, y in house.corr().items():\n",
    "    if x == 'LotFrontage':\n",
    "        df = pd.DataFrame({'variable':y.index, 'correlation': abs(y.values)})\n",
    "\n",
    "df.sort_values(by = 'correlation', ascending = False).head()"
   ]
  },
  {
   "cell_type": "code",
   "execution_count": null,
   "metadata": {},
   "outputs": [],
   "source": [
    "# impute the missing values for LotFrontage based on 1stFlrSF, lotArea and GrLivArea\n",
    "imputer = KNNImputer(n_neighbors=2)\n",
    "house[['LotFrontage','1stFlrSF','LotArea','GrLivArea']] = imputer.fit_transform(house[['LotFrontage','1stFlrSF',\n",
    "                                                                                       'LotArea','GrLivArea']])"
   ]
  },
  {
   "cell_type": "code",
   "execution_count": null,
   "metadata": {},
   "outputs": [],
   "source": [
    "# find the most correlated variables with GarageYrBlt\n",
    "for x, y in house.corr().items():\n",
    "    if x == 'GarageYrBlt':\n",
    "        df = pd.DataFrame({'variable':y.index, 'correlation': abs(y.values)})\n",
    "\n",
    "df.sort_values(by = 'correlation', ascending = False).head()"
   ]
  },
  {
   "cell_type": "code",
   "execution_count": null,
   "metadata": {},
   "outputs": [],
   "source": [
    "# impute the missing values for GarageYrBlt based on YearBuilt, YearRemodAdd and GarageCars\n",
    "imputer = KNNImputer(n_neighbors=2)\n",
    "house[['GarageYrBlt','YearBuilt','YearRemodAdd','GarageCars']] = imputer.fit_transform(house[['GarageYrBlt','YearBuilt',\n",
    "                                                                                              'YearRemodAdd','GarageCars']])"
   ]
  },
  {
   "cell_type": "code",
   "execution_count": null,
   "metadata": {},
   "outputs": [],
   "source": [
    "# convert GarageYrBlt to integers\n",
    "house = house.astype({'GarageYrBlt': int})"
   ]
  },
  {
   "cell_type": "code",
   "execution_count": null,
   "metadata": {},
   "outputs": [],
   "source": [
    "# perform ordinal encoding - categorical variables where values are not correctly designated\n",
    "# note: where the house does not have the feature ('NA') it will be assigned a value of 0\n",
    "\n",
    "# create a list of qualitative variables (values = 'Ex', 'Gd', 'TA', 'Fa', 'PO', 'NA')\n",
    "qual_vars = ['ExterQual', 'ExterCond', 'BsmtQual', 'BsmtCond', 'HeatingQC', 'KitchenQual', 'FireplaceQu',\n",
    "             'GarageQual','GarageCond','PoolQC']\n",
    "\n",
    "# for each column map each value with a new encoded value\n",
    "for col in qual_vars:\n",
    "    house[col] = house[col].map({'Ex'   : 5, \n",
    "                                 'Gd'   : 4, \n",
    "                                 'TA'   : 3, \n",
    "                                 'Fa'   : 2, \n",
    "                                 'Po'   : 1, \n",
    "                                 np.nan : 0})\n",
    "    \n",
    "# map LandSlope to encoded values\n",
    "house['LandSlope'] = house['LandSlope'].map({'Gtl' : 3, \n",
    "                                             'Mod' : 2,\n",
    "                                             'Sev' : 1})\n",
    "    \n",
    "# map BsmtExposure to encoded values \n",
    "house['BsmtExposure'] = house['BsmtExposure'].map({'Gd'   : 4, \n",
    "                                                   'Av'   : 3, \n",
    "                                                   'Mn'   : 2, \n",
    "                                                   'No'   : 1, \n",
    "                                                   np.nan : 0})\n",
    "\n",
    "# map basement finishes to encoded values\n",
    "finish_vars =['BsmtFinType1','BsmtFinType2']\n",
    "for col in finish_vars:\n",
    "    house[col] = house[col].map({'GLQ'  : 6, \n",
    "                                 'ALQ'  : 5, \n",
    "                                 'BLQ'  : 4, \n",
    "                                 'Rec'  : 3, \n",
    "                                 'LwQ'  : 2, \n",
    "                                 'Unf'  : 1, \n",
    "                                 np.nan : 0})\n",
    "\n",
    "# map Functional to encoded values    \n",
    "house['Functional'] = house['Functional'].map({'Typ'  : 8, \n",
    "                                               'Min1' : 7, \n",
    "                                               'Min2' : 6, \n",
    "                                               'Mod'  : 5, \n",
    "                                               'Maj1' : 4, \n",
    "                                               'Maj2' : 3,\n",
    "                                               'Sev'  : 2,\n",
    "                                               'Sal'  : 1})   \n",
    "    \n",
    "# map GarageFinish to encoded values\n",
    "house['GarageFinish'] = house['GarageFinish'].map({'Fin'  : 3, \n",
    "                                                   'RFn'  : 2, \n",
    "                                                   'Unf'  : 1, \n",
    "                                                   np.nan : 0})\n",
    "\n",
    "# map PavedDrive to encoded values\n",
    "house['PavedDrive'] = house['PavedDrive'].map({'Y' : 3, \n",
    "                                               'P' : 2, \n",
    "                                               'N' : 1})\n",
    "\n",
    "# map Fence to encoded values\n",
    "house['Fence'] = house['Fence'].map({'GdPrv' : 4,\n",
    "                                     'MnPrv' : 3,\n",
    "                                     'GdWo'  : 2, \n",
    "                                     'MnWw'  : 1, \n",
    "                                     np.nan  : 0})"
   ]
  },
  {
   "cell_type": "code",
   "execution_count": null,
   "metadata": {},
   "outputs": [],
   "source": [
    "# update data dictionary and variable lists\n",
    "nominal_to_ordinal = ['ExterQual', 'ExterCond', 'BsmtQual', 'BsmtCond', 'HeatingQC', 'KitchenQual', 'FireplaceQu',\n",
    "                      'GarageQual','GarageCond','PoolQC', 'LandSlope', 'BsmtExposure', 'BsmtFinType1',\n",
    "                      'BsmtFinType2', 'Functional', 'GarageFinish', 'PavedDrive', 'Fence']\n",
    "\n",
    "for var in nominal_to_ordinal:\n",
    "    data_dict[var][2] = 'ordinal'\n",
    "    ordinal_vars.append(var)\n",
    "    nominal_vars.remove(var)"
   ]
  },
  {
   "cell_type": "code",
   "execution_count": null,
   "metadata": {},
   "outputs": [],
   "source": [
    "# check the shape\n",
    "house.shape"
   ]
  },
  {
   "cell_type": "code",
   "execution_count": null,
   "metadata": {},
   "outputs": [],
   "source": [
    "# count the missing values for each column\n",
    "house.isna().sum()"
   ]
  },
  {
   "cell_type": "code",
   "execution_count": null,
   "metadata": {},
   "outputs": [],
   "source": [
    "# create a list of variables where 0 refers to a non existent feature (e.g. a basement)\n",
    "zero_features = ['MasVnrArea', 'BsmtUnfSF', 'TotalBsmtSF', '2ndFlrSF', 'LowQualFinSF', 'BsmtFullBath', 'BsmtHalfBath',\n",
    "                 'FullBath', 'HalfBath', 'BedroomAbvGr', 'KitchenAbvGr', 'Fireplaces', 'GarageArea', 'WoodDeckSF',\n",
    "                 'OpenPorchSF', 'EnclosedPorch', '3SsnPorch', 'ScreenPorch', 'PoolArea', 'Fence', 'MiscVal']\n",
    "\n",
    "# determine the proportion of houses that do not have that feature\n",
    "zero_count = [(house[x] == 0).sum() for x in zero_features]\n",
    "zero_proportion = [((house[x] == 0).sum()) / ((house[x].notna()).sum()) for x in zero_features]\n",
    "\n",
    "# create and display a dataframe with the proportions\n",
    "zeros = pd.DataFrame({'feature' : zero_features, 'zero_count' : zero_count, 'zero_proportion' : zero_proportion})\n",
    "zeros.sort_values(by = 'zero_proportion', ascending = False)"
   ]
  },
  {
   "cell_type": "markdown",
   "metadata": {},
   "source": [
    "**PoolArea** has a value greater than 0 in 7 entries, meaning that only 7 properties have a swimming pool.  \n",
    "This feature is unlikely to be a good predictor, however it will be maintained to understand its impact.  "
   ]
  },
  {
   "cell_type": "code",
   "execution_count": null,
   "metadata": {},
   "outputs": [],
   "source": [
    "# create a new variable for total square feet above ground\n",
    "house['TotalSFAbvGrd'] = house['1stFlrSF'] + house['2ndFlrSF']\n",
    "\n",
    "# create a new variable for total square feet\n",
    "house['TotalSF'] = house['TotalBsmtSF'] + house['1stFlrSF'] + house['2ndFlrSF']\n",
    "\n",
    "# create a new variable for lot open area\n",
    "house['LotOpenArea'] = house['LotArea'] - (house['1stFlrSF'] + house['OpenPorchSF'] + house['EnclosedPorch'] +\n",
    "                                           house['3SsnPorch'] + house['ScreenPorch'])\n",
    "\n",
    "# create a new variable for floor area ratio\n",
    "house['FloorAreaRatio'] = (house['1stFlrSF'] + house['2ndFlrSF']) / house['LotArea']\n",
    "\n",
    "# create a new variable for total bathrooms\n",
    "house['TotalBath'] = house['FullBath'] + house['BsmtFullBath'] + 0.5*house['HalfBath'] + 0.5*house['BsmtHalfBath']\n",
    "\n",
    "# create a new variable for property age (at sale)\n",
    "house['Age'] = house['YrSold'] - house['YearBuilt']"
   ]
  },
  {
   "cell_type": "code",
   "execution_count": null,
   "metadata": {},
   "outputs": [],
   "source": [
    "# update data dictionary and variable lists\n",
    "data_dict['TotalSFAbvGrd'] = ['Total square feet above ground', 'fixed', 'continuous']\n",
    "data_dict['TotalSF'] = ['Total square feet (all floors)', 'fixed', 'continuous']\n",
    "data_dict['LotOpenArea'] = ['Lot area vertically uncovered by any structure, in square feet', 'fixed', 'continuous']\n",
    "data_dict['FloorAreaRatio'] = ['Ratio of the total floor area (above ground) to the lot size', 'fixed', 'continuous']\n",
    "data_dict['TotalBath'] = ['Total number of bathrooms (all floors)', 'fixed', 'discrete']\n",
    "data_dict['AgeAtSale'] = ['Age of the property at time of sale', 'fixed', 'discrete']\n",
    "\n",
    "new_continuous = ['TotalSFAbvGrd', 'TotalSF', 'LotOpenArea', 'FloorAreaRatio']\n",
    "new_discrete = ['TotalBath', 'AgeAtSale']\n",
    "\n",
    "for var in new_continuous:\n",
    "    continuous_vars.append(var)\n",
    "    quant_vars.append(var)\n",
    "\n",
    "for var in new_discrete:\n",
    "    discrete_vars.append(var)\n",
    "    quant_vars.append(var)"
   ]
  },
  {
   "cell_type": "code",
   "execution_count": null,
   "metadata": {},
   "outputs": [],
   "source": [
    "# split variables into fixed and mutable\n",
    "fixed_vars = []\n",
    "mutable_vars = []\n",
    "\n",
    "for k,v in data_dict.items():\n",
    "    if v[1] == 'fixed':\n",
    "        fixed_vars.append(k)\n",
    "    elif v[1] == 'mutable':\n",
    "        mutable_vars.append(k)"
   ]
  },
  {
   "cell_type": "code",
   "execution_count": null,
   "metadata": {},
   "outputs": [],
   "source": [
    "# display variable types\n",
    "print('FIXED VARIABLES \\n', fixed_vars)\n",
    "print()\n",
    "print('MUTABLE VARIABLES \\n', mutable_vars)\n",
    "print()"
   ]
  },
  {
   "cell_type": "code",
   "execution_count": null,
   "metadata": {},
   "outputs": [],
   "source": [
    "# display variable types\n",
    "print('CONTINUOUS VARIABLES \\n', continuous_vars+price)\n",
    "print()\n",
    "print('DISCRETE VARIABLES \\n', discrete_vars)\n",
    "print()\n",
    "print('ORDINAL VARIABLES \\n', ordinal_vars)\n",
    "print()\n",
    "print('NOMINAL VARIABLES \\n', nominal_vars)\n",
    "print()"
   ]
  },
  {
   "cell_type": "code",
   "execution_count": null,
   "metadata": {},
   "outputs": [],
   "source": [
    "# display a summary for quantitative variables\n",
    "house.describe()"
   ]
  },
  {
   "cell_type": "code",
   "execution_count": null,
   "metadata": {},
   "outputs": [],
   "source": [
    "# display a summary for categorical variables\n",
    "house.describe(include = 'object').sort_values(by = 'freq', ascending = False, axis = 1)"
   ]
  },
  {
   "cell_type": "code",
   "execution_count": null,
   "metadata": {},
   "outputs": [],
   "source": []
  },
  {
   "cell_type": "code",
   "execution_count": null,
   "metadata": {},
   "outputs": [],
   "source": []
  },
  {
   "cell_type": "code",
   "execution_count": null,
   "metadata": {},
   "outputs": [],
   "source": []
  },
  {
   "cell_type": "code",
   "execution_count": null,
   "metadata": {},
   "outputs": [],
   "source": []
  },
  {
   "cell_type": "markdown",
   "metadata": {},
   "source": [
    "## Exploratory Data Analysis"
   ]
  },
  {
   "cell_type": "code",
   "execution_count": null,
   "metadata": {},
   "outputs": [],
   "source": []
  },
  {
   "cell_type": "code",
   "execution_count": null,
   "metadata": {},
   "outputs": [],
   "source": [
    "# explore correlations between continuous variables and price\n",
    "\n",
    "plt.figure(figsize=(15, 15))\n",
    "sns.heatmap(house[continuous_vars+price].corr(), cmap='Blues', annot=True)\n",
    "plt.show;"
   ]
  },
  {
   "cell_type": "code",
   "execution_count": null,
   "metadata": {},
   "outputs": [],
   "source": [
    "# explore correlations between discrete variables, ordinal variables and price\n",
    "\n",
    "plt.figure(figsize=(15, 15))\n",
    "sns.heatmap(house[discrete_vars+ordinal_vars+price].corr(), cmap='Blues', annot=True)\n",
    "plt.show;"
   ]
  },
  {
   "cell_type": "code",
   "execution_count": null,
   "metadata": {},
   "outputs": [],
   "source": [
    "cont_vars_sub = ['TotalBsmtSF', '1stFlrSF', 'GrLivArea', 'GarageArea']\n",
    "\n",
    "disc_vars_sub = ['FullBath', 'TotRmsAbvGrd', 'GarageCars', 'OverallQual']"
   ]
  },
  {
   "cell_type": "code",
   "execution_count": null,
   "metadata": {},
   "outputs": [],
   "source": [
    "sns.set_theme(style='white' , font_scale=1.5)\n",
    "\n",
    "plt.figure(figsize=(15, 15))\n",
    "\n",
    "sns.pairplot(house[cont_vars_sub+price], kind='reg', height=3.5, plot_kws=dict(marker=\"o\"),diag_kws=dict(fill=True),\n",
    "             corner=True);\n"
   ]
  },
  {
   "cell_type": "code",
   "execution_count": null,
   "metadata": {},
   "outputs": [],
   "source": [
    "sns.set_theme(style='white' , font_scale=1.5)\n",
    "\n",
    "plt.figure(figsize=(15, 15))\n",
    "\n",
    "sns.pairplot(house[disc_vars_sub+price], kind='reg', height=3.5, plot_kws=dict(marker=\"o\"),diag_kws=dict(fill=True),\n",
    "             corner=True);\n"
   ]
  },
  {
   "cell_type": "code",
   "execution_count": null,
   "metadata": {},
   "outputs": [],
   "source": []
  },
  {
   "cell_type": "code",
   "execution_count": null,
   "metadata": {},
   "outputs": [],
   "source": [
    "house.info()"
   ]
  },
  {
   "cell_type": "code",
   "execution_count": null,
   "metadata": {},
   "outputs": [],
   "source": []
  },
  {
   "cell_type": "code",
   "execution_count": null,
   "metadata": {},
   "outputs": [],
   "source": [
    "from sklearn.preprocessing import StandardScaler"
   ]
  },
  {
   "cell_type": "code",
   "execution_count": null,
   "metadata": {},
   "outputs": [],
   "source": [
    "scaler = StandardScaler()"
   ]
  },
  {
   "cell_type": "code",
   "execution_count": null,
   "metadata": {},
   "outputs": [],
   "source": []
  },
  {
   "cell_type": "code",
   "execution_count": null,
   "metadata": {},
   "outputs": [],
   "source": []
  },
  {
   "cell_type": "code",
   "execution_count": null,
   "metadata": {},
   "outputs": [],
   "source": [
    "null_data = house[house.isnull().any(axis=1)]"
   ]
  },
  {
   "cell_type": "code",
   "execution_count": null,
   "metadata": {},
   "outputs": [],
   "source": [
    "null_data"
   ]
  },
  {
   "cell_type": "code",
   "execution_count": null,
   "metadata": {},
   "outputs": [],
   "source": [
    "# Identify fixed features that can predict price.\n",
    "\n",
    "\"\"\"\n",
    "\n",
    "For the fixed features I have not only considered the ones that cannot be renovated, but also the ones that are unlikely\n",
    "to be renovated by the real estate company because of the huge cost involved.\n",
    "\n",
    "\n",
    "LotFrontage\n",
    "LotArea\n",
    "LandContour\n",
    "LotConfig\n",
    "LandSlope\n",
    "Neighborhood\n",
    "Condition1\n",
    "Condition2\n",
    "BldgType\n",
    "HouseStyle\n",
    "OverallQual\n",
    "OverallCond\n",
    "BsmtQual\n",
    "TotalBsmtSF\n",
    "1stFlrSF\n",
    "2ndFlrSF\n",
    "GrLivArea\n",
    "BsmtFullBath\n",
    "BsmtHalfBath\n",
    "FullBath\n",
    "HalfBath\n",
    "BedroomAbvGr\n",
    "KitchenAbvGr\n",
    "TotRmsAbvGrd\n",
    "Fireplaces\n",
    "GarageType\n",
    "GarageArea\n",
    "\n",
    "\"\"\"\n",
    "\n"
   ]
  },
  {
   "cell_type": "code",
   "execution_count": null,
   "metadata": {},
   "outputs": [],
   "source": []
  },
  {
   "cell_type": "code",
   "execution_count": null,
   "metadata": {},
   "outputs": [],
   "source": [
    "# copy the original dataframe.\n",
    "# the new dataframe will be used for initial modelling\n",
    "\n",
    "df = house.copy().reset_index()\n",
    "df"
   ]
  },
  {
   "cell_type": "code",
   "execution_count": null,
   "metadata": {},
   "outputs": [],
   "source": [
    "fixed_features = ['LotFrontage', 'LotArea', 'LandContour', 'LotConfig', 'LandSlope', 'Neighborhood', 'Condition1',\n",
    "                  'Condition2', 'BldgType', 'HouseStyle', 'OverallQual', 'OverallCond', 'BsmtQual', 'TotalBsmtSF',\n",
    "                  '1stFlrSF', '2ndFlrSF', 'GrLivArea', 'BsmtFullBath', 'BsmtHalfBath', 'FullBath', 'HalfBath', 'BedroomAbvGr',\n",
    "                  'KitchenAbvGr', 'TotRmsAbvGrd', 'Fireplaces', 'GarageType', 'GarageArea']\n",
    "\n",
    "fixed_cat_vars = [x for x in df.columns if x in fixed_features and x in categ_vars]\n"
   ]
  },
  {
   "cell_type": "code",
   "execution_count": null,
   "metadata": {},
   "outputs": [],
   "source": [
    "fixed_cat_vars"
   ]
  },
  {
   "cell_type": "code",
   "execution_count": null,
   "metadata": {},
   "outputs": [],
   "source": [
    "other_features = [x for x in df.columns if x not in fixed_features and x != 'SalePrice']"
   ]
  },
  {
   "cell_type": "code",
   "execution_count": null,
   "metadata": {},
   "outputs": [],
   "source": [
    "other_features"
   ]
  },
  {
   "cell_type": "code",
   "execution_count": null,
   "metadata": {},
   "outputs": [],
   "source": []
  },
  {
   "cell_type": "code",
   "execution_count": null,
   "metadata": {},
   "outputs": [],
   "source": []
  },
  {
   "cell_type": "code",
   "execution_count": null,
   "metadata": {},
   "outputs": [],
   "source": []
  },
  {
   "cell_type": "code",
   "execution_count": null,
   "metadata": {},
   "outputs": [],
   "source": []
  },
  {
   "cell_type": "code",
   "execution_count": null,
   "metadata": {},
   "outputs": [],
   "source": []
  },
  {
   "cell_type": "code",
   "execution_count": null,
   "metadata": {},
   "outputs": [],
   "source": [
    "from sklearn.linear_model import LinearRegression\n",
    "from sklearn import metrics"
   ]
  },
  {
   "cell_type": "code",
   "execution_count": null,
   "metadata": {},
   "outputs": [],
   "source": [
    "# dummify the categorical variables\n",
    "\n",
    "df_dum = pd.get_dummies(df, columns=fixed_cat_vars, drop_first=True)\n"
   ]
  },
  {
   "cell_type": "code",
   "execution_count": null,
   "metadata": {},
   "outputs": [],
   "source": [
    "df_dum.head()"
   ]
  },
  {
   "cell_type": "code",
   "execution_count": null,
   "metadata": {},
   "outputs": [],
   "source": [
    "# define target variable\n",
    "\n",
    "y = df_dum.pop('SalePrice')"
   ]
  },
  {
   "cell_type": "code",
   "execution_count": null,
   "metadata": {},
   "outputs": [],
   "source": [
    "# define predictor matrix\n",
    "\n",
    "X = df_dum.drop(columns=other_features)"
   ]
  },
  {
   "cell_type": "code",
   "execution_count": null,
   "metadata": {},
   "outputs": [],
   "source": [
    "X.head()"
   ]
  },
  {
   "cell_type": "code",
   "execution_count": null,
   "metadata": {},
   "outputs": [],
   "source": [
    "df_dum.YrSold.value_counts()"
   ]
  },
  {
   "cell_type": "code",
   "execution_count": null,
   "metadata": {},
   "outputs": [],
   "source": [
    "# create train and test sets based on YrSold\n",
    "\n",
    "X_train = X[df_dum.YrSold < 2010]\n",
    "X_test = X[df_dum.YrSold == 2010]\n",
    "\n",
    "y_train = y[df_dum.YrSold < 2010]\n",
    "y_test = y[df_dum.YrSold == 2010]"
   ]
  },
  {
   "cell_type": "code",
   "execution_count": null,
   "metadata": {},
   "outputs": [],
   "source": [
    "# train and test set baseline\n",
    "\n",
    "print(y_train.value_counts(normalize=True).max())\n",
    "print(y_test.value_counts(normalize=True).max())"
   ]
  },
  {
   "cell_type": "code",
   "execution_count": null,
   "metadata": {},
   "outputs": [],
   "source": [
    "# rescale the dataset\n",
    "\n",
    "scaler = StandardScaler()"
   ]
  },
  {
   "cell_type": "code",
   "execution_count": null,
   "metadata": {},
   "outputs": [],
   "source": [
    "X_train = pd.DataFrame(scaler.fit_transform(X_train), columns=X_train.columns)\n",
    "\n",
    "X_test = pd.DataFrame(scaler.transform(X_test), columns=X_test.columns)"
   ]
  },
  {
   "cell_type": "code",
   "execution_count": null,
   "metadata": {},
   "outputs": [],
   "source": [
    "print(X_train.shape)\n",
    "print(X_test.shape)\n",
    "print(y_train.shape)\n",
    "print(y_test.shape)"
   ]
  },
  {
   "cell_type": "code",
   "execution_count": null,
   "metadata": {},
   "outputs": [],
   "source": [
    "# instatiate the model\n",
    "model = LinearRegression()\n",
    "\n",
    "# fit the model\n",
    "model.fit(X_train, y_train)\n",
    "\n",
    "# score the model\n",
    "print(model.score(X_train, y_train))\n",
    "print(model.score(X_test, y_test))"
   ]
  },
  {
   "cell_type": "code",
   "execution_count": null,
   "metadata": {},
   "outputs": [],
   "source": [
    "print('Intercept:', model.intercept_)\n",
    "\n",
    "lr_coeffs = pd.DataFrame(list(zip(X_train.columns, model.coef_)))\n",
    "lr_coeffs"
   ]
  },
  {
   "cell_type": "code",
   "execution_count": null,
   "metadata": {},
   "outputs": [],
   "source": [
    "# best estimate of price\n",
    "\n",
    "lr_coeffs[lr_coeffs[1]==lr_coeffs[1].max()]"
   ]
  },
  {
   "cell_type": "code",
   "execution_count": null,
   "metadata": {},
   "outputs": [],
   "source": [
    "# best estimates of price\n",
    "\n",
    "lr_coeffs.nlargest(5,[1])"
   ]
  },
  {
   "cell_type": "code",
   "execution_count": null,
   "metadata": {},
   "outputs": [],
   "source": [
    "# worst estimates of price\n",
    "\n",
    "lr_coeffs.nsmallest(5,[1])"
   ]
  },
  {
   "cell_type": "code",
   "execution_count": null,
   "metadata": {},
   "outputs": [],
   "source": [
    "# perform 5-fold cross validation\n",
    "\n",
    "scores = cross_val_score(model, X, y, cv=5)\n",
    "print(\"Cross-validated scores:\", scores)\n",
    "print(\"Mean of Ccoss-validated scores:\", scores.mean())"
   ]
  },
  {
   "cell_type": "code",
   "execution_count": null,
   "metadata": {},
   "outputs": [],
   "source": []
  },
  {
   "cell_type": "code",
   "execution_count": null,
   "metadata": {},
   "outputs": [],
   "source": [
    "# A:"
   ]
  },
  {
   "cell_type": "markdown",
   "metadata": {},
   "source": [
    "<img src=\"http://imgur.com/l5NasQj.png\" style=\"float: left; margin: 25px 15px 0px 0px; height: 25px\">\n",
    "\n",
    "## 2. Determine any value of *changeable* property characteristics unexplained by the *fixed* ones.\n",
    "\n",
    "---\n",
    "\n",
    "Now that you have a model that estimates the price of a house based on its static characteristics, we can move forward with part 2 and 3 of the plan: what are the costs/benefits of quality, condition, and renovations?\n",
    "\n",
    "---\n",
    "\n",
    "**Your goals:**\n",
    "1. Evaluate the effect in dollars of the renovatable features. \n",
    "- How would your company use this second model and its coefficients to determine whether they should buy a property or not? Explain how the company can use the two models you have built to determine if they can make money. \n",
    "- Investigate how much of the variance in price remaining is explained by these features.\n",
    "- Do you trust your model? Should it be used to evaluate which properties to buy and fix up?"
   ]
  },
  {
   "cell_type": "code",
   "execution_count": null,
   "metadata": {},
   "outputs": [],
   "source": [
    "\"\"\"\n",
    "\n",
    "I am going to use the changeable features in the predictor matrix and fit a new model.\n",
    "\n",
    "\n",
    "\"\"\""
   ]
  },
  {
   "cell_type": "code",
   "execution_count": null,
   "metadata": {},
   "outputs": [],
   "source": [
    "# copy the updated dataframe to create a new predictor matrix\n",
    "\n",
    "df2 = df.copy().reset_index()\n",
    "df2"
   ]
  },
  {
   "cell_type": "code",
   "execution_count": null,
   "metadata": {},
   "outputs": [],
   "source": [
    "df2.drop(columns=['level_0', 'index'], inplace=True)\n",
    "df2"
   ]
  },
  {
   "cell_type": "code",
   "execution_count": null,
   "metadata": {},
   "outputs": [],
   "source": []
  },
  {
   "cell_type": "code",
   "execution_count": null,
   "metadata": {},
   "outputs": [],
   "source": []
  },
  {
   "cell_type": "code",
   "execution_count": null,
   "metadata": {},
   "outputs": [],
   "source": []
  },
  {
   "cell_type": "code",
   "execution_count": null,
   "metadata": {},
   "outputs": [],
   "source": [
    "# A:"
   ]
  },
  {
   "cell_type": "markdown",
   "metadata": {},
   "source": [
    "<img src=\"http://imgur.com/GCAf1UX.png\" style=\"float: left; margin: 25px 15px 0px 0px; height: 25px\">\n",
    "\n",
    "## 3. What property characteristics predict an \"abnormal\" sale?\n",
    "\n",
    "---\n",
    "\n",
    "The `SaleCondition` feature indicates the circumstances of the house sale. From the data file, we can see that the possibilities are:\n",
    "\n",
    "       Normal\tNormal Sale\n",
    "       Abnorml\tAbnormal Sale -  trade, foreclosure, short sale\n",
    "       AdjLand\tAdjoining Land Purchase\n",
    "       Alloca\tAllocation - two linked properties with separate deeds, typically condo with a garage unit\t\n",
    "       Family\tSale between family members\n",
    "       Partial\tHome was not completed when last assessed (associated with New Homes)\n",
    "       \n",
    "One of the executives at your company has an \"in\" with higher-ups at the major regional bank. His friends at the bank have made him a proposal: if he can reliably indicate what features, if any, predict \"abnormal\" sales (foreclosures, short sales, etc.), then in return the bank will give him first dibs on the pre-auction purchase of those properties (at a dirt-cheap price).\n",
    "\n",
    "He has tasked you with determining (and adequately validating) which features of a property predict this type of sale. \n",
    "\n",
    "---\n",
    "\n",
    "**Your task:**\n",
    "1. Determine which features predict the `Abnorml` category in the `SaleCondition` feature.\n",
    "- Justify your results.\n",
    "\n",
    "This is a challenging task that tests your ability to perform classification analysis in the face of severe class imbalance. You may find that simply running a classifier on the full dataset to predict the category ends up useless: when there is bad class imbalance classifiers often tend to simply guess the majority class.\n",
    "\n",
    "It is up to you to determine how you will tackle this problem. It is recommended to do some research to find out how others have dealt with the problem in the past. Make sure to justify your solution. Don't worry about it being \"the best\" solution, but be rigorous.\n",
    "\n",
    "Be sure to indicate which features are predictive (if any) and whether they are positive or negative predictors of abnormal sales."
   ]
  },
  {
   "cell_type": "code",
   "execution_count": null,
   "metadata": {},
   "outputs": [],
   "source": [
    "# A:"
   ]
  },
  {
   "cell_type": "code",
   "execution_count": null,
   "metadata": {},
   "outputs": [],
   "source": []
  }
 ],
 "metadata": {
  "kernelspec": {
   "display_name": "Python 3 (ipykernel)",
   "language": "python",
   "name": "python3"
  },
  "language_info": {
   "codemirror_mode": {
    "name": "ipython",
    "version": 3
   },
   "file_extension": ".py",
   "mimetype": "text/x-python",
   "name": "python",
   "nbconvert_exporter": "python",
   "pygments_lexer": "ipython3",
   "version": "3.9.13"
  },
  "toc": {
   "base_numbering": 1,
   "nav_menu": {},
   "number_sections": false,
   "sideBar": true,
   "skip_h1_title": true,
   "title_cell": "Table of Contents",
   "title_sidebar": "Contents",
   "toc_cell": false,
   "toc_position": {},
   "toc_section_display": "block",
   "toc_window_display": false
  }
 },
 "nbformat": 4,
 "nbformat_minor": 2
}
